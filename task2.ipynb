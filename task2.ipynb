{
  "nbformat": 4,
  "nbformat_minor": 0,
  "metadata": {
    "colab": {
      "provenance": []
    },
    "kernelspec": {
      "name": "python3",
      "display_name": "Python 3"
    },
    "language_info": {
      "name": "python"
    }
  },
  "cells": [
    {
      "cell_type": "markdown",
      "source": [
        "### Part 1"
      ],
      "metadata": {
        "id": "N0KWNYu4DIWC"
      }
    },
    {
      "cell_type": "code",
      "source": [
        "import pandas as pd\n",
        "import numpy as np\n",
        "import math\n",
        "from scipy.stats import shapiro\n",
        "from collections import Counter"
      ],
      "metadata": {
        "id": "9U_izPpuD0Js"
      },
      "execution_count": null,
      "outputs": []
    },
    {
      "cell_type": "code",
      "source": [
        "!wget https://aysuvorov.github.io/docs/pages/private/tasks/df_maga.txt\n",
        "data = pd.read_csv(\"df_maga.txt\", delim_whitespace=True)"
      ],
      "metadata": {
        "colab": {
          "base_uri": "https://localhost:8080/"
        },
        "id": "yKmr1zL6DQfM",
        "outputId": "bc1df596-e3cd-49d6-d015-efd5931e09c7"
      },
      "execution_count": null,
      "outputs": [
        {
          "output_type": "stream",
          "name": "stdout",
          "text": [
            "--2023-12-20 18:20:24--  https://aysuvorov.github.io/docs/pages/private/tasks/df_maga.txt\n",
            "Resolving aysuvorov.github.io (aysuvorov.github.io)... 185.199.110.153, 185.199.108.153, 185.199.111.153, ...\n",
            "Connecting to aysuvorov.github.io (aysuvorov.github.io)|185.199.110.153|:443... connected.\n",
            "HTTP request sent, awaiting response... 200 OK\n",
            "Length: 502107 (490K) [text/plain]\n",
            "Saving to: ‘df_maga.txt’\n",
            "\n",
            "\rdf_maga.txt           0%[                    ]       0  --.-KB/s               \rdf_maga.txt         100%[===================>] 490.34K  --.-KB/s    in 0.04s   \n",
            "\n",
            "2023-12-20 18:20:24 (13.1 MB/s) - ‘df_maga.txt’ saved [502107/502107]\n",
            "\n"
          ]
        }
      ]
    },
    {
      "cell_type": "code",
      "source": [
        "cat_features = \"group sex risk_sum_age_pre40 risk_score_category risk_score2_category risk_score2or_category risk_smart_category risk_advance_category smoking svd_amnesis menopause dm1 dm2 dm3 trt_hypoglik trt_insulin obesity dm_angioprthy ag_angiopathy chd angi angi_fc trt_statins trt_monoclol stroke_tia piks anemia chf gout gastritis asthma copd ag ag_control af aextr vextr atachy vtachy vpv ssu av_block trt_aarithm trt_ccb_nondyhidr trt_sota_meto trt_cordaron trt_allap trt_nitro trt_beta trt_ccb_dyhidr trt_apfinh trt_ara trt_diur trt_alpha_beta trt_iva trt_allopur trt_omnik trt_warf trt_dabi trt_riva trt_apix trt_asp trt_clop trt_tica trt_digo cckd albuminurea cancer pht rythm aort_valve tricus_valve mitral_valve dd artery_age risk_max 373_0698881 372_0831385 371_0825979 357_0574136 356_0598732 355_0581166 331_8339182 330_8312542 329_82565 297_0720535 281_0533825 204_9430066\".split(\" \")\n",
        "\n",
        "for feat in data.columns:\n",
        "  if feat in cat_features:\n",
        "    continue\n",
        "\n",
        "  for x in data[feat]:\n",
        "    if not isinstance(x, float):\n",
        "      cat_features.append(feat)\n",
        "      break"
      ],
      "metadata": {
        "id": "1_00BqiSDRYG"
      },
      "execution_count": null,
      "outputs": []
    },
    {
      "cell_type": "code",
      "source": [
        "skipped_data = data.notna().agg(\"sum\").to_frame().reset_index().rename(columns={\"index\": \"variable\", 0: \"in_table\"})\n",
        "skipped_data[\"total\"] = len(data.index)\n",
        "skipped_data[\"skipped_share\"] = (1 - skipped_data[\"in_table\"] / skipped_data[\"total\"]) * 100"
      ],
      "metadata": {
        "id": "JT_OS1QqEmMr"
      },
      "execution_count": null,
      "outputs": []
    },
    {
      "cell_type": "code",
      "source": [
        "rare_features = list(skipped_data[skipped_data[\"skipped_share\"] >= 15][\"variable\"])\n",
        "print(rare_features)"
      ],
      "metadata": {
        "colab": {
          "base_uri": "https://localhost:8080/"
        },
        "id": "i1Uv2jKoE3Cs",
        "outputId": "074936dc-c88d-4748-f1dc-6f36820e11a6"
      },
      "execution_count": null,
      "outputs": [
        {
          "output_type": "stream",
          "name": "stdout",
          "text": [
            "['risk_sum_age_pre40', 'risk_score_perc', 'risk_score_category', 'risk_score2_perc', 'risk_score2_category', 'risk_score2or_perc', 'risk_score2or_category', 'risk_smart_perc', 'risk_smart_category', 'risk_advance_perc', 'risk_advance_category', 'svd_anamnesis', 'menopause', 'dm_angioprthy', 'ag_angiopathy', 'ag_control', 'sad_max', 'dad_max', 'trt_aarithm', 'creatinkinase', 'crp', 'urea', 'ureic_acid', 'ast', 'lponp', 'lpnp', 'lvp', 'triglec', 'natrium', 'kalium', 'calcium', 'ferrum', 'ttg', 'soe', 'ef', 'tzs', 'tmjp', 'aort_valve', 'tricus_valve', 'mitral_valve', 'sdla', 'dd', 'artery_age', 'r_cavy', 'l_cavy', 'l_abi', 'r_abi', 'r_ai', 's_rb', 'd_rb', 's_lb', 'd_lb', 'risk_max']\n"
          ]
        }
      ]
    },
    {
      "cell_type": "code",
      "source": [
        "skipped_data[\"skipped_share\"] = skipped_data[\"skipped_share\"].map(\"{:,.2f}%\".format)\n",
        "print(skipped_data)"
      ],
      "metadata": {
        "colab": {
          "base_uri": "https://localhost:8080/"
        },
        "id": "GSPGo6nnNpj2",
        "outputId": "60b4eaa2-38d2-4979-fdf7-e97af8f13eb8"
      },
      "execution_count": null,
      "outputs": [
        {
          "output_type": "stream",
          "name": "stdout",
          "text": [
            "               variable  in_table  total skipped_share\n",
            "0                 group       413    414         0.24%\n",
            "1                   age       413    414         0.24%\n",
            "2                   sex       413    414         0.24%\n",
            "3    risk_sum_age_pre40        58    414        85.99%\n",
            "4       risk_score_perc        75    414        81.88%\n",
            "..                  ...       ...    ...           ...\n",
            "227         371_0825979       414    414         0.00%\n",
            "228         372_0831385       414    414         0.00%\n",
            "229         373_0698881       414    414         0.00%\n",
            "230            risk_max       284    414        31.40%\n",
            "231            endpoint       413    414         0.24%\n",
            "\n",
            "[232 rows x 4 columns]\n"
          ]
        }
      ]
    },
    {
      "cell_type": "code",
      "source": [
        "skipped_data.drop(columns=[\"in_table\", \"total\"], inplace=True)\n",
        "print(skipped_data)"
      ],
      "metadata": {
        "colab": {
          "base_uri": "https://localhost:8080/"
        },
        "id": "2-xrF3dEODEk",
        "outputId": "80648ecc-9e30-4d2d-9e37-504849a7e7e9"
      },
      "execution_count": null,
      "outputs": [
        {
          "output_type": "stream",
          "name": "stdout",
          "text": [
            "               variable skipped_share\n",
            "0                 group         0.24%\n",
            "1                   age         0.24%\n",
            "2                   sex         0.24%\n",
            "3    risk_sum_age_pre40        85.99%\n",
            "4       risk_score_perc        81.88%\n",
            "..                  ...           ...\n",
            "227         371_0825979         0.00%\n",
            "228         372_0831385         0.00%\n",
            "229         373_0698881         0.00%\n",
            "230            risk_max        31.40%\n",
            "231            endpoint         0.24%\n",
            "\n",
            "[232 rows x 2 columns]\n"
          ]
        }
      ]
    },
    {
      "cell_type": "markdown",
      "source": [
        "### Part 2"
      ],
      "metadata": {
        "id": "iy47axFdPbwG"
      }
    },
    {
      "cell_type": "code",
      "source": [
        "def get_row_template():\n",
        "  stats = [\"name\", \"valid\", \"count\", \"mean\", \"standart_deviation\", \"median\", \"min\", \"max\", \"sw_test\"]\n",
        "  return pd.DataFrame(np.nan, index=[0], columns=stats)\n",
        "\n",
        "def get_cat_feature_stat(name, arr):\n",
        "  arr = list(arr[arr.notna()])\n",
        "  rows = [get_row_template()]\n",
        "  rows[0][\"name\"] = name\n",
        "  for cat_value, count in Counter(arr).items():\n",
        "    row = get_row_template()\n",
        "    row[\"name\"] = cat_value\n",
        "    row[\"valid\"] = len(arr)\n",
        "    row[\"count\"] = count\n",
        "    rows.append(row)\n",
        "  return pd.concat(rows, ignore_index=True)\n",
        "\n",
        "def get_quant_feture_stat(name, arr):\n",
        "  row = get_row_template()\n",
        "  arr = list(arr[arr.notna()])\n",
        "  row[\"name\"] = name\n",
        "  row[\"valid\"] = len(arr)\n",
        "  row[\"mean\"] = sum(arr) / len(arr)\n",
        "  row[\"standart_deviation\"] = np.std(arr)\n",
        "  row[\"median\"] = np.median(arr)\n",
        "  row[\"min\"] = min(arr)\n",
        "  row[\"max\"] = max(arr)\n",
        "  row[\"sw_test\"] = shapiro(arr).pvalue\n",
        "  return row\n",
        "\n",
        "def get_feature_stat(data, feat_name):\n",
        "  global cat_features\n",
        "  if feat_name in cat_features:\n",
        "    return get_cat_feature_stat(feat_name, data[feat_name])\n",
        "  return get_quant_feture_stat(feat_name, data[feat_name])\n",
        "\n",
        "def get_stats(df):\n",
        "  return pd.concat([get_feature_stat(df, feat) for feat in df.columns], ignore_index=True).fillna(\"-\")\n",
        "\n",
        "def format_mean_std_tuple(x):\n",
        "  if isinstance(x[0], str):\n",
        "    return \"-\"\n",
        "  return \"{:,.1f} \\u00B1 {:,.1f}\".format(*x)\n",
        "\n",
        "def format_add_percent(x):\n",
        "  if isinstance(x[0], str):\n",
        "    return \"-\"\n",
        "  return \"{} ({:,.1f}%)\".format(int(x[0]), 100 * x[0] / x[1])\n",
        "\n",
        "def format_median_ranges(x):\n",
        "  if isinstance(x[0], str):\n",
        "    return \"-\"\n",
        "  return \"{:,.1f}, [-{:,.1f}, +{:,.1f}]\".format(x[0], x[0] - x[1], x[2] - x[0])\n",
        "\n",
        "def format_to_int(x):\n",
        "  if isinstance(x, str):\n",
        "    return x\n",
        "  return int(x)\n",
        "\n",
        "def format(df):\n",
        "  df[\"mean, std\"] = list(zip(df[\"mean\"], df[\"standart_deviation\"]))\n",
        "  df[\"mean, std\"] = df[\"mean, std\"].map(format_mean_std_tuple)\n",
        "  df[\"valid\"] = df[\"valid\"].map(format_to_int)\n",
        "  df[\"count\"] = list(zip(df[\"count\"], df[\"valid\"]))\n",
        "  df[\"count\"] = df[\"count\"].map(format_add_percent)\n",
        "  df[\"name\"] = df[\"name\"].map(format_to_int)\n",
        "  df[\"median\"] = list(zip(df[\"median\"], df[\"min\"], df[\"max\"]))\n",
        "  df[\"median\"] = df[\"median\"].map(format_median_ranges)\n",
        "  df = df.drop(columns=[\"mean\", \"standart_deviation\"])\n",
        "  return df"
      ],
      "metadata": {
        "id": "XY-eEWVgOlWW"
      },
      "execution_count": null,
      "outputs": []
    },
    {
      "cell_type": "code",
      "source": [
        "print(format(get_stats(data)))"
      ],
      "metadata": {
        "colab": {
          "base_uri": "https://localhost:8080/"
        },
        "id": "w20jYR29Mv5u",
        "outputId": "af4e53c1-0a35-491a-9590-3cb9cd0216d7"
      },
      "execution_count": null,
      "outputs": [
        {
          "output_type": "stream",
          "name": "stdout",
          "text": [
            "           name valid        count                median   min   max sw_test  \\\n",
            "0         group     -            -                     -     -     -       -   \n",
            "1             1   413  321 (77.7%)                     -     -     -       -   \n",
            "2             0   413   92 (22.3%)                     -     -     -       -   \n",
            "3           age   413            -  61.0, [-43.0, +30.0]  18.0  91.0     0.0   \n",
            "4           sex     -            -                     -     -     -       -   \n",
            "...         ...   ...          ...                   ...   ...   ...     ...   \n",
            "5350  AG.DM.CHD   413    31 (7.5%)                     -     -     -       -   \n",
            "5351     AG.CHD   413   77 (18.6%)                     -     -     -       -   \n",
            "5352      AG.DM   413    32 (7.7%)                     -     -     -       -   \n",
            "5353        CHD   413     7 (1.7%)                     -     -     -       -   \n",
            "5354       Ctrl   413   92 (22.3%)                     -     -     -       -   \n",
            "\n",
            "        mean, std  \n",
            "0               -  \n",
            "1               -  \n",
            "2               -  \n",
            "3     55.4 ± 20.2  \n",
            "4               -  \n",
            "...           ...  \n",
            "5350            -  \n",
            "5351            -  \n",
            "5352            -  \n",
            "5353            -  \n",
            "5354            -  \n",
            "\n",
            "[5355 rows x 8 columns]\n"
          ]
        }
      ]
    },
    {
      "cell_type": "code",
      "source": [],
      "metadata": {
        "id": "mbAZubrSMzx8"
      },
      "execution_count": null,
      "outputs": []
    },
    {
      "cell_type": "code",
      "source": [],
      "metadata": {
        "id": "vRsyDoDGgGOh"
      },
      "execution_count": null,
      "outputs": []
    }
  ]
}